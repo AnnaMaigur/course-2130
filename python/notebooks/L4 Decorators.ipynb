{
 "cells": [
  {
   "cell_type": "markdown",
   "metadata": {},
   "source": [
    "# Декораторы"
   ]
  },
  {
   "cell_type": "code",
   "execution_count": 1,
   "metadata": {},
   "outputs": [],
   "source": [
    "def fancy_decorator(func):\n",
    "    def new_func():\n",
    "        print('>before')\n",
    "        func()\n",
    "        print('>after')\n",
    "    return new_func        "
   ]
  },
  {
   "cell_type": "code",
   "execution_count": 2,
   "metadata": {},
   "outputs": [],
   "source": [
    "@fancy_decorator\n",
    "def my_function():\n",
    "    \"\"\"My function\"\"\"\n",
    "    print('Hello')"
   ]
  },
  {
   "cell_type": "code",
   "execution_count": 3,
   "metadata": {},
   "outputs": [
    {
     "name": "stdout",
     "output_type": "stream",
     "text": [
      ">before\n",
      "Hello\n",
      ">after\n"
     ]
    }
   ],
   "source": [
    "my_function()"
   ]
  },
  {
   "cell_type": "code",
   "execution_count": 4,
   "metadata": {},
   "outputs": [
    {
     "data": {
      "text/plain": [
       "(None, 'new_func')"
      ]
     },
     "execution_count": 4,
     "metadata": {},
     "output_type": "execute_result"
    }
   ],
   "source": [
    "my_function.__doc__, my_function.__name__"
   ]
  },
  {
   "cell_type": "code",
   "execution_count": 5,
   "metadata": {},
   "outputs": [],
   "source": [
    "def fancy_decorator_1(func):\n",
    "    def new_func():\n",
    "        print('I am the first one')\n",
    "        func()\n",
    "        print('End fancy_decorator_1')\n",
    "    return new_func\n",
    "\n",
    "\n",
    "def fancy_decorator_2(func):\n",
    "    def new_func():\n",
    "        print('I am the second one')\n",
    "        func()\n",
    "        print('End fancy_decorator_2')\n",
    "    return new_func"
   ]
  },
  {
   "cell_type": "code",
   "execution_count": 6,
   "metadata": {},
   "outputs": [],
   "source": [
    "def my_function_v2():\n",
    "    print('Hi from my function 2')"
   ]
  },
  {
   "cell_type": "code",
   "execution_count": 7,
   "metadata": {},
   "outputs": [],
   "source": [
    "my_function_v2 = fancy_decorator_1(fancy_decorator_2(my_function_v2))"
   ]
  },
  {
   "cell_type": "code",
   "execution_count": 8,
   "metadata": {},
   "outputs": [
    {
     "name": "stdout",
     "output_type": "stream",
     "text": [
      "I am the first one\n",
      "I am the second one\n",
      "Hi from my function 2\n",
      "End fancy_decorator_2\n",
      "End fancy_decorator_1\n",
      "None\n"
     ]
    }
   ],
   "source": [
    "print(my_function_v2())"
   ]
  },
  {
   "cell_type": "code",
   "execution_count": 9,
   "metadata": {},
   "outputs": [],
   "source": [
    "@fancy_decorator_1\n",
    "@fancy_decorator_2\n",
    "def my_function_v2():\n",
    "    print('Hell from my function 2')"
   ]
  },
  {
   "cell_type": "code",
   "execution_count": 10,
   "metadata": {},
   "outputs": [
    {
     "name": "stdout",
     "output_type": "stream",
     "text": [
      "I am the first one\n",
      "I am the second one\n",
      "Hell from my function 2\n",
      "End fancy_decorator_2\n",
      "End fancy_decorator_1\n"
     ]
    }
   ],
   "source": [
    "my_function_v2()"
   ]
  },
  {
   "cell_type": "markdown",
   "metadata": {},
   "source": [
    "#### Аргументы функции"
   ]
  },
  {
   "cell_type": "code",
   "execution_count": 11,
   "metadata": {},
   "outputs": [],
   "source": [
    "def fancy_decorator_3(func):\n",
    "    def new_function(*args):\n",
    "        print(*args)\n",
    "        return func(*args)\n",
    "    return new_function"
   ]
  },
  {
   "cell_type": "code",
   "execution_count": 12,
   "metadata": {},
   "outputs": [],
   "source": [
    "@fancy_decorator_3\n",
    "def my_function_v3(*args):\n",
    "    print(f'>{args}')\n",
    "    return args[0]"
   ]
  },
  {
   "cell_type": "code",
   "execution_count": 13,
   "metadata": {},
   "outputs": [],
   "source": [
    "# fancy_decorator_3(my_function_v3)(*args)"
   ]
  },
  {
   "cell_type": "code",
   "execution_count": 14,
   "metadata": {},
   "outputs": [
    {
     "name": "stdout",
     "output_type": "stream",
     "text": [
      "0 1 2 3 4 5 6 7 8 9\n",
      ">(0, 1, 2, 3, 4, 5, 6, 7, 8, 9)\n"
     ]
    },
    {
     "data": {
      "text/plain": [
       "0"
      ]
     },
     "execution_count": 14,
     "metadata": {},
     "output_type": "execute_result"
    }
   ],
   "source": [
    "my_function_v3(*[i for i in range(10)])"
   ]
  },
  {
   "cell_type": "markdown",
   "metadata": {},
   "source": [
    "#### Агрументы декоратора"
   ]
  },
  {
   "cell_type": "code",
   "execution_count": 15,
   "metadata": {},
   "outputs": [],
   "source": [
    "def fancy_decorator_3(_type):\n",
    "    print(f'the type is decorator is <{_type}>')\n",
    "    def decorator(func):\n",
    "        def new_function(*args):\n",
    "            if _type == 'type1':\n",
    "                return func(*args[1:])\n",
    "            else:\n",
    "                return func(*args)\n",
    "        return new_function\n",
    "    return decorator"
   ]
  },
  {
   "cell_type": "code",
   "execution_count": 16,
   "metadata": {},
   "outputs": [
    {
     "name": "stdout",
     "output_type": "stream",
     "text": [
      "the type is decorator is <type1>\n"
     ]
    }
   ],
   "source": [
    "@fancy_decorator_3('type1')\n",
    "def my_function_v4(*args):\n",
    "    print('I am the core function')\n",
    "    return args[0]"
   ]
  },
  {
   "cell_type": "code",
   "execution_count": 17,
   "metadata": {},
   "outputs": [
    {
     "name": "stdout",
     "output_type": "stream",
     "text": [
      "I am the core function\n"
     ]
    },
    {
     "data": {
      "text/plain": [
       "1"
      ]
     },
     "execution_count": 17,
     "metadata": {},
     "output_type": "execute_result"
    }
   ],
   "source": [
    "my_function_v4(*[i for i in range(10)])"
   ]
  },
  {
   "cell_type": "markdown",
   "metadata": {},
   "source": [
    "### Несколько примеров\n",
    "\n",
    "1. Retry\n",
    "2. Cache"
   ]
  },
  {
   "cell_type": "code",
   "execution_count": 18,
   "metadata": {},
   "outputs": [],
   "source": [
    "def retry(steps=10):\n",
    "    def decorator(func):\n",
    "        def new_function(*args, **kwargs):\n",
    "            for n_try in range(steps):\n",
    "                print('I am trying to run')\n",
    "                try:\n",
    "                    func(*args, **kwargs)\n",
    "                except Exception as error:\n",
    "                    print(f'I got <{error}>')\n",
    "                else:\n",
    "                    print(f'The func is ready after <{n_try}> steps')\n",
    "                    return\n",
    "        return new_function\n",
    "    return decorator"
   ]
  },
  {
   "cell_type": "code",
   "execution_count": 19,
   "metadata": {},
   "outputs": [],
   "source": [
    "import random\n",
    "\n",
    "\n",
    "@retry(15)\n",
    "def connect_to_vendor(*args, **kwargs):\n",
    "    if random.randint(1, 5) == 3:\n",
    "        print('Establish connection')\n",
    "    else:\n",
    "        raise Exception('the service is unavailable')"
   ]
  },
  {
   "cell_type": "code",
   "execution_count": 20,
   "metadata": {
    "scrolled": true
   },
   "outputs": [
    {
     "name": "stdout",
     "output_type": "stream",
     "text": [
      "I am trying to run\n",
      "I got <the service is unavailable>\n",
      "I am trying to run\n",
      "I got <the service is unavailable>\n",
      "I am trying to run\n",
      "I got <the service is unavailable>\n",
      "I am trying to run\n",
      "I got <the service is unavailable>\n",
      "I am trying to run\n",
      "Establish connection\n",
      "The func is ready after <4> steps\n"
     ]
    }
   ],
   "source": [
    "connect_to_vendor()"
   ]
  },
  {
   "cell_type": "markdown",
   "metadata": {},
   "source": [
    "##### Stack"
   ]
  },
  {
   "cell_type": "code",
   "execution_count": 21,
   "metadata": {},
   "outputs": [],
   "source": [
    "def stack(_size=100):\n",
    "    internal_memory = []\n",
    "    def decorator(func):\n",
    "        def new_function(*args, **kwargs):\n",
    "            result = func(*args, **kwargs)\n",
    "            if len(internal_memory) < _size:\n",
    "                internal_memory.append(result)\n",
    "            else:\n",
    "                del internal_memory[0]\n",
    "                internal_memory.append(result)\n",
    "            return result\n",
    "        return new_function\n",
    "    return decorator"
   ]
  },
  {
   "cell_type": "code",
   "execution_count": 22,
   "metadata": {},
   "outputs": [],
   "source": [
    "@stack(100)\n",
    "def product(x, y):\n",
    "    return x * y"
   ]
  },
  {
   "cell_type": "code",
   "execution_count": 23,
   "metadata": {},
   "outputs": [],
   "source": [
    "for i in range(20):\n",
    "    product(2, i)"
   ]
  },
  {
   "cell_type": "code",
   "execution_count": 24,
   "metadata": {},
   "outputs": [
    {
     "data": {
      "text/plain": [
       "[0, 2, 4, 6, 8, 10, 12, 14, 16, 18, 20, 22, 24, 26, 28, 30, 32, 34, 36, 38]"
      ]
     },
     "execution_count": 24,
     "metadata": {},
     "output_type": "execute_result"
    }
   ],
   "source": [
    "product.__closure__[2].cell_contents"
   ]
  }
 ],
 "metadata": {
  "kernelspec": {
   "display_name": "Python 3",
   "language": "python",
   "name": "python3"
  },
  "language_info": {
   "codemirror_mode": {
    "name": "ipython",
    "version": 3
   },
   "file_extension": ".py",
   "mimetype": "text/x-python",
   "name": "python",
   "nbconvert_exporter": "python",
   "pygments_lexer": "ipython3",
   "version": "3.7.6"
  }
 },
 "nbformat": 4,
 "nbformat_minor": 4
}
